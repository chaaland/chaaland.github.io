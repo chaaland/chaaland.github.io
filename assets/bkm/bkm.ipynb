{
 "cells": [
  {
   "cell_type": "code",
   "execution_count": 2,
   "id": "c6f993e9-88cb-4eea-8e7e-9f1b99615562",
   "metadata": {},
   "outputs": [],
   "source": [
    "import matplotlib.pyplot as plt\n",
    "import numpy as np\n",
    "import math"
   ]
  },
  {
   "cell_type": "code",
   "execution_count": 3,
   "id": "5d98877e-cebe-4450-af5f-a89dbcf61fba",
   "metadata": {},
   "outputs": [],
   "source": [
    "def make_cartesian_plane(ax):\n",
    "    ax.spines[\"top\"].set_color(\"none\")\n",
    "    ax.spines[\"bottom\"].set_position(\"zero\")\n",
    "    ax.spines[\"left\"].set_position(\"zero\")\n",
    "    ax.spines[\"right\"].set_color(\"none\")\n",
    "\n",
    "\n",
    "def remove_spines(ax):\n",
    "    ax.spines[[\"right\", \"top\"]].set_visible(False)"
   ]
  },
  {
   "cell_type": "code",
   "execution_count": 4,
   "id": "d6de067b-affb-47e2-b2f3-88ed3cfc61ca",
   "metadata": {},
   "outputs": [],
   "source": [
    "k = np.arange(15)\n",
    "xs = 1 + 2.0 ** -(k)\n",
    "\n",
    "plt.scatter(k, np.cumprod(xs))"
   ]
  },
  {
   "cell_type": "code",
   "execution_count": 5,
   "id": "b9cce0ef-5e0d-4b8a-98fe-dd2abdef40df",
   "metadata": {},
   "outputs": [],
   "source": [
    "k = np.arange(15)\n",
    "xs = 1 + 2.0 ** -(k)\n",
    "\n",
    "plt.scatter(k, np.log(np.cumprod(xs)))\n",
    "plt.ylabel(r\"$\\sum_{k=0}^n \\log(1+2^{-k})$\")"
   ]
  },
  {
   "cell_type": "code",
   "execution_count": 6,
   "id": "17d876c3-20ec-4965-b554-32155ffb1890",
   "metadata": {},
   "outputs": [],
   "source": [
    "LOGARITHM_LOOKUP = [math.log(1 + 2.0**-k) for k in range(100)]\n",
    "\n",
    "\n",
    "def bkm(x: float, n_iters: int):\n",
    "    assert n_iters < 100\n",
    "\n",
    "    log_x = 0\n",
    "    x_hat = 1\n",
    "    for k in range(n_iters):\n",
    "        a_k = 1 + 2**-k\n",
    "        tmp = x_hat * a_k\n",
    "        if tmp <= x:\n",
    "            log_x += LOGARITHM_LOOKUP[k]\n",
    "            x_hat = tmp\n",
    "    return log_x"
   ]
  },
  {
   "cell_type": "code",
   "execution_count": 7,
   "id": "9a621acd-9b99-42da-aa41-39ff772d67fd",
   "metadata": {},
   "outputs": [],
   "source": [
    "bkm(np.pi, 50)"
   ]
  },
  {
   "cell_type": "code",
   "execution_count": 8,
   "id": "e154b89a-8121-43f6-9683-dd148e1a992e",
   "metadata": {},
   "outputs": [],
   "source": [
    "LOGARITHM_LOOKUP = [math.log(1 + 2.0**-k) for k in range(100)]\n",
    "\n",
    "plt.figure(figsize=(10, 5))\n",
    "\n",
    "x = math.pi\n",
    "log_x = 0\n",
    "x_hat = 1\n",
    "n_iters = 10\n",
    "\n",
    "\n",
    "accepted_pairs = []\n",
    "rejected_pairs = []\n",
    "\n",
    "for k in range(n_iters):\n",
    "    a_k = 1 + 2**-k\n",
    "    tmp = x_hat * a_k\n",
    "    if tmp <= x:\n",
    "        log_x += LOGARITHM_LOOKUP[k]\n",
    "        x_hat = tmp\n",
    "        accepted_pairs.append((k, tmp, log_x))\n",
    "    else:\n",
    "        rejected_pairs.append((k, tmp, log_x + LOGARITHM_LOOKUP[k]))\n",
    "\n",
    "plt.subplot(121)\n",
    "plt.scatter(\n",
    "    [elem for elem, _, _ in accepted_pairs], [elem for _, elem, _ in accepted_pairs], marker=\"o\", color=\"tab:blue\"\n",
    ")\n",
    "plt.scatter(\n",
    "    [elem for elem, _, _ in rejected_pairs], [elem for _, elem, _ in rejected_pairs], marker=\"o\", color=\"tab:red\"\n",
    ")\n",
    "plt.axhline(x, linestyle=\"--\")\n",
    "plt.ylim([0, 4])\n",
    "remove_spines(plt.gca())\n",
    "\n",
    "plt.subplot(122)\n",
    "plt.axhline(np.log(x), linestyle=\"--\")\n",
    "plt.scatter(\n",
    "    [elem for elem, _, _ in accepted_pairs], [elem for _, _, elem in accepted_pairs], marker=\"o\", color=\"tab:blue\"\n",
    ")\n",
    "plt.scatter(\n",
    "    [elem for elem, _, _ in rejected_pairs], [elem for _, _, elem in rejected_pairs], marker=\"o\", color=\"tab:red\"\n",
    ")\n",
    "plt.ylim([0, 1.5])\n",
    "\n",
    "plt.tight_layout()\n",
    "remove_spines(plt.gca())\n",
    "\n",
    "print([elem for _, _, elem in accepted_pairs])"
   ]
  },
  {
   "cell_type": "code",
   "execution_count": 9,
   "id": "5354c06a-fabc-42bc-9ea9-2b27e3ab42b2",
   "metadata": {},
   "outputs": [],
   "source": [
    "# alternate implementation using d_k = +1, 0, -1\n",
    "LOGARITHM_LOOKUP = [math.log(1 + 2.0**-k) for k in range(100)]\n",
    "\n",
    "plt.figure(figsize=(10, 5))\n",
    "\n",
    "x = math.pi\n",
    "log_x = 0\n",
    "x_hat = 1\n",
    "n_iters = 10\n",
    "x_hat = x\n",
    "\n",
    "triples = []\n",
    "triples.append((0, x_hat, log_x))\n",
    "for k in range(n_iters):\n",
    "    triples.append((k, x_hat, log_x))\n",
    "\n",
    "    if x_hat > 1:\n",
    "        x_hat /= 1 + 2**-k\n",
    "        log_x += LOGARITHM_LOOKUP[k]\n",
    "    else:\n",
    "        x_hat *= 1 + 2**-k\n",
    "        log_x -= LOGARITHM_LOOKUP[k]\n",
    "    triples.append((k + 1, x_hat, log_x))\n",
    "\n",
    "plt.subplot(121)\n",
    "plt.scatter([elem for elem, _, _ in triples], [elem for _, elem, _ in triples], marker=\"o\", color=\"tab:blue\")\n",
    "plt.axhline(1, linestyle=\"--\")\n",
    "plt.ylim([0, 3.5])\n",
    "remove_spines(plt.gca())\n",
    "\n",
    "plt.subplot(122)\n",
    "plt.axhline(np.log(x), linestyle=\"--\")\n",
    "plt.scatter([elem for elem, _, _ in triples], [elem for _, _, elem in triples], marker=\"o\", color=\"tab:blue\")\n",
    "plt.ylim([0, 1.5])\n",
    "\n",
    "plt.tight_layout()\n",
    "remove_spines(plt.gca())\n",
    "print([b for a, b, elem in triples])\n",
    "print(math.log(x))"
   ]
  },
  {
   "cell_type": "code",
   "execution_count": 10,
   "id": "7e365b00-9eb9-4b55-8cb5-6e51e2bad95a",
   "metadata": {},
   "outputs": [],
   "source": [
    "xs = np.arange(10)\n",
    "ys = 1 / (1 + 2.0**-xs)\n",
    "ys_approx = 1 - 2.0**-xs\n",
    "# ys_approx_2 = 1 - 2.**-xs + 4.**-xs\n",
    "\n",
    "plt.figure()\n",
    "plt.scatter(xs, ys, label=r\"$\\left(1+2^{-k}\\right)^{-1}$\", alpha=0.5)\n",
    "plt.scatter(xs, ys_approx, label=r\"$1 - 2^{-k}$\", alpha=0.5)\n",
    "# plt.scatter(xs, ys_approx_2, label=r\"$1 - 2^{-k} + 2^{-2k}$\")\n",
    "\n",
    "remove_spines(plt.gca())\n",
    "plt.legend(frameon=False, fontsize=16)"
   ]
  },
  {
   "cell_type": "code",
   "execution_count": 11,
   "id": "eb7de44f-8f64-49ee-90d6-da91d2bd1d9d",
   "metadata": {},
   "outputs": [],
   "source": [
    "x = 6\n",
    "log_x = 0\n",
    "exp_approx = 1\n",
    "\n",
    "n_iters = 20\n",
    "for k in range(n_iters):\n",
    "    tmp = log_x + LOGARITHM_LOOKUP[k]\n",
    "    if tmp < x:\n",
    "        log_x = tmp\n",
    "        exp_approx = exp_approx + exp_approx / 2**k  # x * (1 + 2**-k)\n",
    "        # exp_approx *= (1+2**-k)\n",
    "\n",
    "print(log_x)\n",
    "print(exp_approx)\n",
    "print(np.exp(x))"
   ]
  },
  {
   "cell_type": "code",
   "execution_count": null,
   "id": "6624eb64-272d-4114-9821-281bee7b1023",
   "metadata": {},
   "outputs": [],
   "source": []
  }
 ],
 "metadata": {
  "kernelspec": {
   "display_name": "Python 3 (ipykernel)",
   "language": "python",
   "name": "python3"
  },
  "language_info": {
   "codemirror_mode": {
    "name": "ipython",
    "version": 3
   },
   "file_extension": ".py",
   "mimetype": "text/x-python",
   "name": "python",
   "nbconvert_exporter": "python",
   "pygments_lexer": "ipython3",
   "version": "3.12.11"
  },
  "execution": {}
 },
 "nbformat": 4,
 "nbformat_minor": 5
}
